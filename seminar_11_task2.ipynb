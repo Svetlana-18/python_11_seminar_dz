{
 "cells": [
  {
   "cell_type": "markdown",
   "id": "b96bf71b-a85f-4616-964d-ef41cf4a459a",
   "metadata": {
    "tags": []
   },
   "source": [
    "### Дана функция f = (x ** 2 + 3) / (3 * (x + 1))"
   ]
  },
  {
   "cell_type": "code",
   "execution_count": 22,
   "id": "6af76ea2-21b5-4a25-ae99-479c107bbe36",
   "metadata": {},
   "outputs": [],
   "source": [
    "from sympy import *\n",
    "from sympy.plotting import plot"
   ]
  },
  {
   "cell_type": "code",
   "execution_count": 23,
   "id": "c8c89297-e275-43b9-8b24-32731ae34187",
   "metadata": {},
   "outputs": [
    {
     "data": {
      "text/latex": [
       "$\\displaystyle \\frac{x^{2} + 3}{3 x + 3}$"
      ],
      "text/plain": [
       "(x**2 + 3)/(3*x + 3)"
      ]
     },
     "execution_count": 23,
     "metadata": {},
     "output_type": "execute_result"
    }
   ],
   "source": [
    "x = Symbol('x')\n",
    "f = (x ** 2 + 3) / (3 * (x + 1))\n",
    "f"
   ]
  },
  {
   "cell_type": "markdown",
   "id": "6c7b4080-1f51-41b4-83ea-d89681f4c962",
   "metadata": {},
   "source": [
    "### 1. Определить корни"
   ]
  },
  {
   "cell_type": "code",
   "execution_count": 24,
   "id": "2a6d2e4b-c528-4f21-b0a4-9eb2a46503a0",
   "metadata": {},
   "outputs": [
    {
     "data": {
      "text/latex": [
       "$\\displaystyle \\left\\{- \\sqrt{3} i, \\sqrt{3} i\\right\\}$"
      ],
      "text/plain": [
       "{-sqrt(3)*I, sqrt(3)*I}"
      ]
     },
     "execution_count": 24,
     "metadata": {},
     "output_type": "execute_result"
    }
   ],
   "source": [
    "solveset (f,x)"
   ]
  },
  {
   "cell_type": "markdown",
   "id": "b37899e1-dfed-4a3c-9cdf-6da15007aa58",
   "metadata": {},
   "source": [
    "### 2. Найти интервалы, на которых функция возрастает\n",
    "### 3. Найти интервалы, на которых функция убывает"
   ]
  },
  {
   "cell_type": "code",
   "execution_count": 25,
   "id": "51f6c477-4606-45d1-91cf-d4ada0a8fac4",
   "metadata": {},
   "outputs": [
    {
     "data": {
      "text/plain": [
       "[-oo, -3, 1, oo]"
      ]
     },
     "execution_count": 25,
     "metadata": {},
     "output_type": "execute_result"
    }
   ],
   "source": [
    "b=[-oo, oo]\n",
    "b[1:1] = solve(diff(f), x)\n",
    "b"
   ]
  },
  {
   "cell_type": "code",
   "execution_count": 26,
   "id": "22d0d6d7-e718-43f3-bb71-cee02666025a",
   "metadata": {},
   "outputs": [
    {
     "name": "stdout",
     "output_type": "stream",
     "text": [
      "Возрастает на интервалах:\n",
      "[-oo, -3]\n",
      "[1, oo]\n",
      "Убывает на интервалах:\n",
      "[-3, 1]\n"
     ]
    }
   ],
   "source": [
    "c=[]\n",
    "d=[]\n",
    "for i in range(1, len(b)):\n",
    "    boo=is_increasing(f, Interval.open(b[i-1], b[i]))\n",
    "    if boo:\n",
    "        c.append(f\"[{round(b[i-1], 2)}, {round(b[i], 2)}]\")\n",
    "    else:\n",
    "        d.append(f\"[{round(b[i-1], 2)}, {round(b[i], 2)}]\")\n",
    "        \n",
    "print(f\"Возрастает на интервалах:\", *c, sep=\"\\n\")\n",
    "print(f\"Убывает на интервалах:\", *d, sep=\"\\n\")"
   ]
  },
  {
   "cell_type": "markdown",
   "id": "2455bf89-edbe-452a-90c7-0a77ddf1388f",
   "metadata": {},
   "source": [
    "### 4. Построить график"
   ]
  },
  {
   "cell_type": "code",
   "execution_count": 31,
   "id": "9a1a8198-7859-4dfb-b89e-5b8625ffb28d",
   "metadata": {},
   "outputs": [
    {
     "data": {
      "image/png": "[encoded data removed]",
      "text/plain": [
       "<Figure size 640x480 with 1 Axes>"
      ]
     },
     "metadata": {},
     "output_type": "display_data"
    },
    {
     "data": {
      "text/plain": [
       "<sympy.plotting.plot.Plot at 0x1cf59dd9ca0>"
      ]
     },
     "execution_count": 31,
     "metadata": {},
     "output_type": "execute_result"
    }
   ],
   "source": [
    "plot(f, (x , -2, 2), legend=True)"
   ]
  },
  {
   "cell_type": "markdown",
   "id": "7f39c667-9070-4445-ada9-e2ba020acf5a",
   "metadata": {},
   "source": [
    "### 5. Вычислить вершину\n",
    "### Экстремумы функции"
   ]
  },
  {
   "cell_type": "code",
   "execution_count": 28,
   "id": "c8bf72de-77fd-42bd-8e3d-696d354811f5",
   "metadata": {},
   "outputs": [
    {
     "name": "stdout",
     "output_type": "stream",
     "text": [
      "Точка минимума: x:-3 y:-2\n",
      "Точка максимума: x:1 y:0.67\n"
     ]
    }
   ],
   "source": [
    "e=solve(diff(f),x)\n",
    "for i in e:\n",
    "    g = f.subs(x,i)\n",
    "    if g<0:\n",
    "        print(f'Точка минимума: x:{round(i, 2)} y:{round(g, 2)}')\n",
    "    elif g>0:\n",
    "        print(f'Точка максимума: x:{round(i, 2)} y:{round(g, 2)}')"
   ]
  },
  {
   "cell_type": "code",
   "execution_count": null,
   "id": "4cd4e59f-b00c-45fb-9cb6-b311932d993e",
   "metadata": {},
   "outputs": [],
   "source": []
  }
 ],
 "metadata": {
  "kernelspec": {
   "display_name": "Python 3 (ipykernel)",
   "language": "python",
   "name": "python3"
  },
  "language_info": {
   "codemirror_mode": {
    "name": "ipython",
    "version": 3
   },
   "file_extension": ".py",
   "mimetype": "text/x-python",
   "name": "python",
   "nbconvert_exporter": "python",
   "pygments_lexer": "ipython3",
   "version": "3.9.13"
  }
 },
 "nbformat": 4,
 "nbformat_minor": 5
}
